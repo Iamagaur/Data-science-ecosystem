{
 "cells": [
  {
   "cell_type": "markdown",
   "id": "4ab75db5-bf2c-4d3b-8ee3-d2c745012ceb",
   "metadata": {},
   "source": [
    "# Data Science Tools and Ecosystem "
   ]
  },
  {
   "cell_type": "markdown",
   "id": "f2308b7f-388e-4759-b228-43c61d35e1c4",
   "metadata": {},
   "source": [
    "## In this notebook, Data Science Tools and Ecosystem are summarized."
   ]
  },
 {
   "cell_type": "markdown",
   "id": "a7447ed6-5891-403b-a80e-2bcb2d37912f",
   "metadata": {},
   "source": [
    "__objectives__\n",
    "- Add comments to code cells\n",
    "- create markdown cells\n",
    "- Add ordered and unordered lists to markdown cells\n",
    "- Specify some languages and libraries used in data science"
   ]
  },
  {
   "cell_type": "markdown",
   "id": "799726ee-1ae9-446d-9cb1-593719728444",
   "metadata": {},
   "source": [
    "Some of the popular languages that Data Scientists use are:\n",
    "1. python\n",
    "2. R\n",
    "3. julia\n",
    "4. scala\n",
    "5. sql"
   ]
  },
  {
   "cell_type": "markdown",
   "id": "cac84d51-ebf2-4c7e-9269-ba76e6cbb87a",
   "metadata": {},
   "source": [
    "Some of the commonly used libraries used by Data Scientists include:\n",
    "1. Pandas\n",
    "2. Numpy\n",
    "3. Matplotlib\n",
    "4. keras"
   ]
  },
  {
   "cell_type": "markdown",
   "id": "ef3840b7-41e8-4c06-9d65-4210e06c20c9",
   "metadata": {},
   "source": [
    "|Data Science Tools|\n",
    "|-----|\n",
    "|Jupyter Notebook|\n",
    "|Rstudio|\n",
    "|Apache Spark|"
   ]
  },
  {
   "cell_type": "markdown",
   "id": "4cf21c37-8b80-4bfb-b12c-b54ad8c4e233",
   "metadata": {},
   "source": [
    "### Below are a few examples of evaluating arithmetic expressions in Python."
   ]
  },
  {
   "cell_type": "code",
   "execution_count": 2,
   "id": "54f93e73-ed5e-4934-85cf-9ec57ca869f1",
   "metadata": {},
   "outputs": [
    {
     "data": {
      "text/plain": [
       "17"
      ]
     },
     "execution_count": 2,
     "metadata": {},
     "output_type": "execute_result"
    }
   ],
   "source": [
    "# This a simple arithmetic expression to mutiply then add integers\n",
    "(3*4)+5"
   ]
  },
  {
   "cell_type": "code",
   "execution_count": 5,
   "id": "243bfb05-9a87-4268-ae20-15499329e132",
   "metadata": {},
   "outputs": [
    {
     "name": "stdout",
     "output_type": "stream",
     "text": [
      "200 minutes is equal to 3 hours and 20 minutes.\n"
     ]
    }
   ],
   "source": [
    "# This will convert 200 minutes to hours by diving by 60.\n",
    "minutes = 200\n",
    "hours = minutes // 60\n",
    "remaining_minutes = minutes % 60\n",
    "\n",
    "print(f\"{minutes} minutes is equal to {hours} hours and {remaining_minutes} minutes.\")"
   ]
  },
 
  {
   "cell_type": "markdown",
   "id": "316097c2-f256-4979-8da4-a810a73515f9",
   "metadata": {},
   "source": [
    "## Author\n",
    "   Utkarsh Gaur"
   ]
  },
  {
   "cell_type": "code",
   "execution_count": null,
   "id": "7fdb4b11-b693-483c-b96a-0dd0f44053af",
   "metadata": {},
   "outputs": [],
   "source": []
  }
 ],
 "metadata": {
  "kernelspec": {
   "display_name": "Python 3 (ipykernel)",
   "language": "python",
   "name": "python3"
  },
  "language_info": {
   "codemirror_mode": {
    "name": "ipython",
    "version": 3
   },
   "file_extension": ".py",
   "mimetype": "text/x-python",
   "name": "python",
   "nbconvert_exporter": "python",
   "pygments_lexer": "ipython3",
   "version": "3.11.7"
  }
 },
 "nbformat": 4,
 "nbformat_minor": 5
}
